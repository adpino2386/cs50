{
 "cells": [
  {
   "cell_type": "code",
   "execution_count": 2,
   "metadata": {},
   "outputs": [],
   "source": [
    "\n",
    "import json\n",
    "import requests\n",
    "from bs4 import BeautifulSoup\n",
    "from urllib.parse import urlencode\n"
   ]
  },
  {
   "cell_type": "code",
   "execution_count": 3,
   "metadata": {},
   "outputs": [
    {
     "name": "stdout",
     "output_type": "stream",
     "text": [
      "['https://www.walmart.ca/en/ip/LorAnn-Oils-16-oz-Butter-Super-Strength-Flavor/4R0GB2FYIU3Q', 'https://www.walmart.ca/en/ip/LorAnn-Oils-4-oz-Pina-Colada-Super-Strength-Flavor/3QUHMO79I2W1', 'https://www.walmart.ca/en/ip/Roxy-Rich-25-Gram-Antique-Silk-Sparkle-Dust/30DU60YH9MBO', 'https://www.walmart.ca/en/ip/LorAnn-Oils-4-oz-Coconut-Super-Strength-Flavor/5WNN8E7R3ALC', 'https://www.walmart.ca/en/ip/Shopsy-s-Pepperoni-Sticks-40-Count-High-Protein-2-CASE/42DQ5P6ZCSZB', 'https://www.walmart.ca/en/ip/Jack-Link-s-Teriyaki-Beef-Jerky-300-g-10-oz-2-CASE/4W8E8EPI0Z7S', 'https://www.walmart.ca/en/ip/Pearl-Dust-Non-Toxic-3-Grams/5TY3XNKBQ0OZ', 'https://www.walmart.ca/en/ip/One-Step-Pet-Piri-Piri-Blend-Seasoning-700G-Unit-6-Units-Case/3MJFTCUSP93M', 'https://www.walmart.ca', 'https://www.walmart.ca/en/ip/Torani-750-mL-Sugar-Free-Peach-Flavoring-Fruit-Syrup/4ZRYTOGOLPIB', 'https://www.walmart.ca/en/ip/TruColor-Blue-Shine-Natural-Liquid-Food-Color-1-5-Oz/5KV02SL8JP0G', 'https://www.walmart.ca/en/ip/Lorann-Oils-Maple-Flavor-1-Oz/1RXXEU5TIG55', 'https://www.walmart.ca/en/ip/Torani-Sugar-Free-Chocolate-Macadamia-Nut-Flavoring-Syrup-Plastic-750-mL-Bonus-Squeeze-Pump/3ROH044IGEJ6', 'https://www.walmart.ca/en/ip/LorAnn-Oils-4-oz-Cucumber-Serrano-Super-Strength-Flavor/2LBQSE3HYZHG', 'https://www.walmart.ca/en/ip/Sauce-Craft-Nashville-Hot-Sauce-0-5-Gallon-4-Case-Spicy-and-Fiery-Delight-in-Bulk/2U3L8I8OE95S', 'https://www.walmart.ca/en/ip/Sauce-Craft-Gochujang-Korean-Pepper-Sauce-0-5-Gallon-4-Case-Authentic-Korean-Flavor-in-Bulk/50K14ILAX255', 'https://www.walmart.ca/en/ip/Jack-Link-s-Original-Beef-Jerky-12-count-2-Case/5ZLQ0UDW77ZB', 'https://www.walmart.ca/en/ip/Torani-750-mL-Cassis-Flavoring-Fruit-Syrup/1Y1RSR5RWPH4', 'https://www.walmart.ca/en/ip/Spirdust-1-5-Gram-Yellow-Cocktail-Shimmer/1UIE52JW4XPD', 'https://www.walmart.ca/en/ip/Crystal-Candy-Metallic-Rose-Gold-Edible-Leaves-Pack-of-28/11O76JI59YZP', 'https://www.walmart.ca/en/ip/Colour-Mill-Oil-Based-Food-Color-White-20ml/2DKGYM3HVEXN', 'https://www.walmart.ca/en/ip/Roxy-Rich-2-5-Gram-Coral-Lustre-Dust/6OE2OES6NIXT', 'https://www.walmart.ca/en/ip/Trade-East-Fine-Black-Pepper-Spice-2-1KG-Unit-1-Unit-Case/70TL2E953GFC', 'https://www.walmart.ca/en/ip/Sugarpaste-Crystal-Color-Magnolia-Powder-Food-Coloring-2-75-Grams/5KXH5T2GNEKP', 'https://www.walmart.ca/en/ip/O-Creme-Egyptian-Gold-Luster-Dust-4-gr/4TLGIMOVTFI9', 'https://www.walmart.ca/en/ip/Roxy-Rich-2-5-Gram-Black-Lustre-Dust/5SSIP1FJPU2S', 'https://www.walmart.ca/en/ip/Campbell-s-Cream-of-Chicken-Soup-284ml-Pack-of-2/6L67RMC44PMP', 'https://www.walmart.ca/en/ip/Maraschino-Cherries-with-Stems-Bulk-Food-Service-1-Gallon-Sweet-amp-Colorful-Ideal-for-Desserts-and-Cocktails/6AHMUI8AM6TF', 'https://www.walmart.ca/en/ip/Kellogg-s-Vector-Cereal-Pouch-Trans-Fat-Compliant-850G-Unit-6-Units-Case/1ZMR71I3H8DY', 'https://www.walmart.ca/en/ip/Trade-East-Oregano-Leaves-Herb-Shaker-190G-Unit-12-Units-Case/1KBLIEG2EOSK', 'https://www.walmart.ca/en/ip/Saucemaker-Caribbean-Jerk-Sauce-3-7L-Unit-2-Units-Case/33YDN7SATEP2', 'https://www.walmart.ca/en/ip/DaVinci-Gourmet-750-mL-Fruit-Innovations-Mango-Cold-Beverage-Flavoring-Fruit-Syrup/4GKCHFC7FOWL', 'https://www.walmart.ca/en/ip/Crown-Beverages-5-lb-Cold-Brew-Coarse-Ground-Coffee/13KZIREA7OA0', 'https://www.walmart.ca/en/ip/Lesaffre-Red-Star-2-lb-Vacuum-Packed-Bakers-Active-Dry-Yeast/5N5ZRZUZFWPW', 'https://www.walmart.ca/en/ip/Ocean-Spray-White-Cranberry-Cocktail-Juice-24-Percent-Polyethylene-1-89L-Unit-4-Units-Case/7FR1U31RMWQO', 'https://www.walmart.ca/en/ip/Wilton-Christmas-Tree-Holiday-Sprinkle-Mix-3-73-oz/1FP8V8B9PDHE', 'https://www.walmart.ca/en/ip/Crystal-Candy-Satin-Pearl-Metallic-Edible-Leaves-Pack-of-28/1IZXY6UG1H85', 'https://www.walmart.ca/en/ip/Sprinkle-Pop-Bunny-Bottoms-Sprinkle-Mix-4-oz/77R3YQNT3553', 'https://www.walmart.ca/en/ip/Trade-East-Whole-Bay-Leaves-Spice-284G-Unit-1-Unit-Case/4Y6P8532FIK2', 'https://www.walmart.ca/en/ip/THAI-Kitchen-35-oz-Red-Curry-Paste-6-Case/0UI6R5Y95SU9', 'https://www.walmart.ca/en/ip/William-Spartivento-Espresso-Barista-Dark-Roast-Fair-Trade-and-Organic-Whole-Bean-Coffee-2-pack/6PGZMXTIW2E8', 'https://www.walmart.ca/en/ip/Chefmaster-9-oz-Neon-Brite-Green-Airbrush-Color/62NFBLPWLCW6', 'https://www.walmart.ca/en/ip/Sour-Triple-Bears-28-lb-Case/2EFN5KZLE76H', 'https://www.walmart.ca/en/ip/Roxy-Rich-2-5-Gram-Nu-Silver-Sparkle-Dust/2MTETTX40QJU', 'https://www.walmart.ca/en/ip/Sliced-Almonds-Bulk-Food-Service-25-lbs-11-33-kgs/66HG3IIEGTGJ', 'https://www.walmart.ca/en/ip/Lee-Kum-Kee-8-mL-Less-Sodium-Soy-Sauce-Packet-500-Case/1JBX0JJZ42IQ', 'https://www.walmart.ca/en/ip/TruColor-Sky-Blue-Liquid-Extract-Color-1-oz/56D7X2J5E7Q9', 'https://www.walmart.ca/en/ip/Chefmaster-Red-Red-Liqua-Gel-Food-Color-2-3-oz/6DCHXN804RGH', 'https://www.walmart.ca/en/ip/Knorr-Swiss-Dijon-Mustard-Prepared-Gluten-Free-5-8KG-12-8-lbs/6KFQ9P147ROI', 'https://www.walmart.ca', 'https://www.walmart.ca/en/ip/CP-Ground-Nutmeg-5-lb-2-27-kgs/6PDKSKP4RG75', 'https://www.walmart.ca/en/ip/Satin-Ice-2-lb-Pink-Vanilla-Rolled-Fondant-Icing/5V79F06GD1GI', 'https://www.walmart.ca/en/ip/Kikkoman-Stir-Fry-Sauce-0-5-Gallon-Container-6-Case-Create-Delicious-Stir-Fry-Masterpieces/61N260W3DG82', 'https://www.walmart.ca/en/ip/Rep-blica-del-Cacao-Ecuador-31-White-Chocolate-Couverture-5-5-lb-4-Case-Premium-White-Chocolate-for-Culinary-Excellence/3RXQ6N3KXRUU', 'https://www.walmart.ca/en/ip/DaVinci-Gourmet-750-mL-Fruit-Innovations-Pomegranate-Cold-Beverage-Flavoring-Fruit-Syrup/21A7V8H61DPB', 'https://www.walmart.ca/en/ip/Roxy-Rich-2-5-Gram-Peach-Sparkle-Dust/4QMAC3XK8OAD', 'https://www.walmart.ca/en/ip/DUBBLE-BUBBLE-Twist-Gum-1-89kg-4-16-lbs-Twisted-Fun-and-Flavor-in-Bulk/55IJNGEB8MZ4', 'https://www.walmart.ca/en/ip/LorAnn-Oils-Artificial-Raspberry-Flavor-1-Oz/24GRD7EW3VUM', 'https://www.walmart.ca/en/ip/Roxy-Rich-2-5-Gram-Rouge-Flambe-Red-Lustre-Dust/6ZYAAQ79TAO5', 'https://www.walmart.ca/en/ip/TruColor-Pink-Shine-Natural-Liquid-Food-Color-1-5-Oz/3YL3UKJ8BAIH', 'https://www.walmart.ca/en/ip/Sour-Patch-Kids-Candy-Bulk-Pack-5lbs-6-CASE-Pallet-of-50-Cases-Ideal-for-Large-Events-and-Retail/5O6FBDBHFP5W', 'https://www.walmart.ca/en/ip/Jelly-Belly-Dr-Pepper-Jelly-Beans-Bulk-20-lb-Case/5WHK55TYJJK3', 'https://www.walmart.ca/en/ip/Lay-s-Classic-Potato-Chips-620-g-6-CASE-Gluten-Free/4FU66A2ODGWW', 'https://www.walmart.ca/en/ip/Satin-Ice-ChocoPan-1-lb-Warm-Sand-Covering-Chocolate/4O0RYLNHKHAC', 'https://www.walmart.ca/en/ip/Jack-Link-s-Teriyaki-Beef-Jerky-12-count-2-CASE/4LRS86GCRQVB', 'https://www.walmart.ca/en/ip/Chefmaster-Deep-Pink-Liqua-Gel-Color-10-5-Oz/4VBMT9RFZECJ', 'https://www.walmart.ca/en/ip/LorAnn-Oils-16-oz-Guava-Super-Strength-Flavor/3LVXC9PACO2F', 'https://www.walmart.ca/en/ip/DaVinci-Gourmet-750-mL-All-Natural-Coconut-Flavoring-Syrup/3E13AOYOK91G', 'https://www.walmart.ca/en/ip/2-Pack-PA-Dutch-Pickled-Red-Beet-Hard-Cooked-Eggs-14-Case/5FCEDQHEZG5Z', 'https://www.walmart.ca/en/ip/Lawry-s-25-lb-Taco-Seasoning-Mix-Pail-Authentic-Mexican-Flavor/3SMP5YNE47OJ', 'https://www.walmart.ca/en/ip/Big-Chief-Beef-Jerky-Variety-Pack-12-80-g-OBig-Chief-Beef-Jerky-Variety-Pack-12-80-g-2-CASE-nline-Exclusive/1NIXLD5XPTF7', 'https://www.walmart.ca/en/ip/ARIZONA-Lemon-Iced-Tea-960-ml/5D18TTLVNEI9', 'https://www.walmart.ca/en/ip/Chefmaster-9-oz-Metallic-Blue-Airbrush-Color/5DEE4M7FBJDU', 'https://www.walmart.ca/en/ip/Sweet-Sticks-PYO-Rainbow-Paint-Cards/5847DVM8V9YB', 'https://www.walmart.ca/en/ip/a2zchef-Sprite-Soft-Drink-PET-Case-24x500-ml/7EI0HXLOGGO9', 'https://www.walmart.ca/en/ip/Razzle-Dazzle-Razzle-Berry-Luster-Dust-1-2-oz-13-gr/4HX3CREF2CDS', 'https://www.walmart.ca/en/ip/Gordon-Choice-Puff-Pastry-Dough-Sheet-10X15In-Vegan-Friendly-350G-Unit-20-Units-Case/53I8E6TPA9J8', 'https://www.walmart.ca/en/ip/LorAnn-Oils-4-oz-All-Natural-Orange-Bakery-Emulsion/5WT3YGX8SXUO', 'https://www.walmart.ca/en/ip/Krusteaz-Professional-5-lb-Chocolate-Fudge-Icing-Mix-6-Case/2JMTU091JV2P', 'https://www.walmart.ca/en/ip/Roxy-Rich-50-Gram-Forest-Green-Fondust-Hybrid-Food-Color/2T08TMQ790ET', 'https://www.walmart.ca/en/ip/O-Creme-Pink-Champagne-Luster-Dust-4-gr/6OIPAER07JOI', 'https://www.walmart.ca/en/ip/JOY-Twin-Scoop-Cake-Cone-180-Case-Perfect-for-Double-the-Delight/1NZ4ZEFGUVVO', 'https://www.walmart.ca/en/ip/Elite-Halal-Luncheon-Chicken/4ZA50ND1LRBQ', 'https://www.walmart.ca/en/ip/St-Hubert-Real-Cream-Chicken-Chowder/10296668', 'https://www.walmart.ca/en/ip/Chicken-breast-strips/6000205754846', 'https://www.walmart.ca/en/ip/exceldor-southwest-chicken-skewers/6000204714804', 'https://www.walmart.ca/en/ip/St-Hubert-Cream-of-leek-and-chicken/6000196716150', 'https://www.walmart.ca/en/ip/rana-seasoned-white-chicken-alfredo-sauce-fettuccine-with-fresh-spinach/6000206693561', 'https://www.walmart.ca/en/ip/MAGGI-CHICKEN-CUBE/6000188765298', 'https://www.walmart.ca/en/ip/zabiha-halal-original-chicken-stix/6000204574424', 'https://www.walmart.ca', 'https://www.walmart.ca/en/ip/St-Hubert-Cream-of-Chicken-Soup/10292186', 'https://www.walmart.ca/en/ip/Aloe-Vera-Drink-Original/6000187907785', 'https://www.walmart.ca/en/ip/exceldor-tex-mex-seasoned-chicken-breast-skewers/6000207550590', 'https://www.walmart.ca/en/ip/Wong-Wing-Chicken-Egg-Rolls/10156418', 'https://www.walmart.ca/en/ip/Herbed-Chicken-Spices-Rich-Thick-Stock-500-mL/5KPM4L88GF9K', 'https://www.walmart.ca/en/ip/Flamingo-Honey-N-Garlic-wings/6RFY3C63FGU9', 'https://www.walmart.ca/en/ip/Golden-Chicken-Flavoured-Ramen/68ANKM6RKSDF', 'https://www.walmart.ca/en/ip/Wong-Wing-Sweet-And-Sour-Chicken/10157848', 'https://www.walmart.ca/en/ip/La-Cage-Panko-Chicken-Breast-Burgers/6000201880187', 'https://www.walmart.ca/en/ip/Great-Value-Chicken-Bouillon-Concentrate/1P18RXRJA2N7', 'https://www.walmart.ca/en/ip/plaisirs-gastronomiques-chicken-broccoli-cheddar-puff-pastry/6000197306152', 'https://www.walmart.ca/en/ip/rana-seasoned-white-chicken-carbonara-sauce-fettuccine/6000206693558', 'https://www.walmart.ca/en/ip/Yorkshire-Valley-Farms-Organic-Chicken-Wings/6000200276446', 'https://www.walmart.ca/en/ip/St-Hubert-25-Less-Salt-Chicken-Noodle-Soup/10296295', 'https://www.walmart.ca/en/ip/Pork-Miso-Ramen/3F9OW8QN9S1J', 'https://www.walmart.ca/en/ip/PF-Changs-Chicken-Lo-Mein/280RLUSACQJH', 'https://www.walmart.ca/en/ip/GR-SUP-CKN-WNG-BBQ/4HB19XS49SB1', 'https://www.walmart.ca/en/ip/BEN-S-ORIGINAL-NATURAL-SELECT-Chicken-Herb-Flavour-Rice-397g-pouch/6000203563835', 'https://www.walmart.ca/en/ip/Campbell-s-Concentrated-Less-Salt-Chicken-Broth-250ML-24CA/3AW3DHZYNX5I', 'https://www.walmart.ca/en/ip/Healthy-Choice-zero-Verde-Chicken/6000205343754', 'https://www.walmart.ca/en/ip/Grace-Bouillon/6000201763958', 'https://www.walmart.ca/en/ip/La-Cage-Chicken-Bites/6000201880178', 'https://www.walmart.ca/en/ip/Twisted-Noodles-Hot-and-Spicy-Chicken-Ramen-Cup/6000205081785', 'https://www.walmart.ca/en/ip/La-Cage-Whisky-Chicken-Wings/6000201880175', 'https://www.walmart.ca/en/ip/Zabiha-Halal-Chicken-Burgers/10212063', 'https://www.walmart.ca/en/ip/Chicken-Breast-Burgers-Breaded-and-fully-cooked-Flamingo/6000199749885', 'https://www.walmart.ca/en/ip/exceldor-brazilian-barbecue-flattened-chicken/3HQK0ZPXVNGN', 'https://www.walmart.ca/en/ip/La-Grille-BBQ-Chicken-Seasoning/206848', 'https://www.walmart.ca/en/ip/Wong-Wing-Chicken-in-General-Tao-Sauce/6000197760251', 'https://www.walmart.ca/en/ip/La-Cage-911-Chicken-Wings/6000201879525', 'https://www.walmart.ca/en/ip/Our-Finest-Butter-Chicken/6000198545501', 'https://www.walmart.ca/en/ip/La-Cage-Smoked-Paprika-Maple-Chicken-Wings/6000201880172', 'https://www.walmart.ca/en/ip/Marie-Callender-s-Marie-Callender-Chicken-Pot-Pie/6000197481023', 'https://www.walmart.ca/en/ip/deli-express-value-size-cooked-seasoned-turkey-breast/187R5CJQNMO3', 'https://www.walmart.ca/en/ip/Knorr-Chicken-Flavoured-Fried-Rice-Rice-Cup/4OQ9NIC9V1CK', 'https://www.walmart.ca/en/ip/Patak-s-Spicy-Butter-Chicken-Cooking-Sauce/6000191251027', 'https://www.walmart.ca/en/ip/Zabiha-Halal-Buffalo-Popcorn-Chicken/6000200074066', 'https://www.walmart.ca/en/ip/chicken-pie-plaisirs-gastronomiques/6000197304868', 'https://www.walmart.ca/en/ip/your-fresh-market-naturally-oven-roasted-chicken-breast/6000199250802', 'https://www.walmart.ca', 'https://www.walmart.ca/en/ip/Imagine-Low-Sodium-Organic-Chicken-Broth/10182044', 'https://www.walmart.ca/en/ip/AYLMER-CHICKEN-BROTH/1ESF7JTVP2JO', 'https://www.walmart.ca/en/ip/great-value-buffalo-style-chicken-breast-strips/6000199807881', 'https://www.walmart.ca/en/ip/mina-halal-tandoori-chicken-drumsticks/6000207581803', 'https://www.walmart.ca/en/ip/Healthy-Choice-Power-Bowls-Shiitake-Chicken/6000200232530', 'https://www.walmart.ca/en/ip/maple-leaf-3-ingredients-oven-roasted-turkey-breast/6000206729104', 'https://www.walmart.ca/en/ip/KFI-Spicy-Butter-Chicken-Cooking-Sauce-375ml/3THUZZTM1V3T', 'https://www.walmart.ca/en/ip/olivieri-fresh-cannelloni-chicken-prosciutto/6000198438162', 'https://www.walmart.ca/en/ip/Our-Finest-Lean-Turkey-Burgers/6000196031468', 'https://www.walmart.ca/en/ip/Patak-s-Light-Butter-Chicken-Cooking-Sauce/6000195442931', 'https://www.walmart.ca/en/ip/Shan-Butter-Chicken-Recipe-and-Masala-Mix/6000197065893', 'https://www.walmart.ca/en/ip/yves-veggie-chickn-nuggets/6000200373357', 'https://www.walmart.ca/en/ip/spicy-ultimate-chicken-frankfurters/6000203323344', 'https://www.walmart.ca/en/ip/olymel-black-forest-smoked-turkey-breast/6000200210994', 'https://www.walmart.ca/en/ip/MINI-WONTON-CHICKEN/6QVLQYW0FDVK', 'https://www.walmart.ca/en/ip/Shake-N-Bake-BBQ-Chicken-Glaze-Coating-Mix/10303883', 'https://www.walmart.ca/en/ip/Great-Value-Extreme-Party-Pack-Crispy-Chicken-Wings/6000205259839', 'https://www.walmart.ca/en/ip/purina-one-true-instinct-grain-free-chicken-dry-cat-food-145kg/6000197890711', 'https://www.walmart.ca/en/ip/La-Cage-Pepper-Sea-Salt-Wings/6000201879691', 'https://www.walmart.ca/en/ip/Swanson-Meals-Chicken-Taco-Oven-Bake/11WKC6X7DZWV', 'https://www.walmart.ca/en/ip/Healthy-Choice-zero-Tomato-Basil-Chicken/6000205344556', 'https://www.walmart.ca/en/ip/Thai-Chef-Instant-Noodles-Chicken-Flavour/6000202635312', 'https://www.walmart.ca/en/ip/The-Keg-Chicken-and-Rib-BBQ-Sauce/6000201190038', 'https://www.walmart.ca/en/ip/Hungry-Man-XL-Bowls-Nashville-Style-Hot-Fried-Chicken-Cutlettes-Bowl/6000202590377', 'https://www.walmart.ca/en/ip/PF-Changs-Chicken-Pad-Thai/2WSQE9RINUDS', 'https://www.walmart.ca/en/ip/MC-CHSY-CHCKN-BOWL/372NXWBQK74Y', 'https://www.walmart.ca/en/ip/zabiha-halal-cajun-chicken-breast-roast/6000201948562', 'https://www.walmart.ca/en/ip/PFC-CHCKN-LO-MEIN-SS/26SAHCO8CQAR', 'https://www.walmart.ca/en/ip/Great-Value-Reduced-Sodium-Chicken-Noodle-Soup-Mix/6000200130377', 'https://www.walmart.ca/en/ip/Mina-Halal-Mozzarella-Stuffed-Chicken/6000198518053', 'https://www.walmart.ca/en/ip/Grace-Chicken-Noodle-Soup/6000188760763', 'https://www.walmart.ca/en/ip/Our-Finest-Bacon-Wrapped-Sweet-Chili-Chicken/6000192235341']\n"
     ]
    }
   ],
   "source": [
    "\n",
    "def create_walmart_product_url(product):\n",
    "    return 'https://www.walmart.ca' + product.get('canonicalUrl', '').split('?')[0]\n",
    "\n",
    "headers={\"User-Agent\": \"Mozilla/5.0 (iPad; CPU OS 12_2 like Mac OS X) AppleWebKit/605.1.15 (KHTML, like Gecko) Mobile/15E148\"}\n",
    "product_url_list = []\n",
    "\n",
    "## Walmart Search Keyword\n",
    "keyword = 'chicken'\n",
    "\n",
    "## Loop Through Walmart Pages Until No More Products\n",
    "for page in range(1, 5):\n",
    "    try:\n",
    "        payload = {'q': keyword, 'sort': 'best_seller', 'page': page, 'affinityOverride': 'default'}\n",
    "        walmart_search_url = 'https://www.walmart.ca/search?' + urlencode(payload)\n",
    "        response = requests.get(walmart_search_url, headers=headers)\n",
    "\n",
    "        if response.status_code == 200:\n",
    "            html_response = response.text\n",
    "            soup = BeautifulSoup(html_response, \"html.parser\")\n",
    "            script_tag = soup.find(\"script\", {\"id\": \"__NEXT_DATA__\"})\n",
    "            if script_tag is not None:\n",
    "                json_blob = json.loads(script_tag.get_text())\n",
    "                product_list = json_blob[\"props\"][\"pageProps\"][\"initialData\"][\"searchResult\"][\"itemStacks\"][0][\"items\"]\n",
    "                product_urls = [create_walmart_product_url(product) for product in product_list]\n",
    "                product_url_list.extend(product_urls)\n",
    "                if len(product_urls) == 0:\n",
    "                    break\n",
    "                    \n",
    "    except Exception as e:\n",
    "        print('Error', e)\n",
    "            \n",
    "    \n",
    "print(product_url_list) "
   ]
  }
 ],
 "metadata": {
  "kernelspec": {
   "display_name": "Python 3",
   "language": "python",
   "name": "python3"
  },
  "language_info": {
   "codemirror_mode": {
    "name": "ipython",
    "version": 3
   },
   "file_extension": ".py",
   "mimetype": "text/x-python",
   "name": "python",
   "nbconvert_exporter": "python",
   "pygments_lexer": "ipython3",
   "version": "3.12.2"
  }
 },
 "nbformat": 4,
 "nbformat_minor": 2
}
